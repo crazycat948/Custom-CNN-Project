{
 "cells": [
  {
   "cell_type": "code",
   "execution_count": null,
   "id": "e9cedb8d-668a-4d9b-ad11-3bef81a8ea09",
   "metadata": {},
   "outputs": [],
   "source": []
  }
 ],
 "metadata": {
  "kernelspec": {
   "display_name": "",
   "name": ""
  },
  "language_info": {
   "name": ""
  }
 },
 "nbformat": 4,
 "nbformat_minor": 5
}
